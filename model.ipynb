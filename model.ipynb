{
 "cells": [
  {
   "cell_type": "code",
   "execution_count": 39,
   "metadata": {},
   "outputs": [
    {
     "name": "stdout",
     "output_type": "stream",
     "text": [
      "Set __pycache__ disabled.\n",
      "GPUs detected:  [PhysicalDevice(name='/physical_device:GPU:0', device_type='GPU')]\n",
      "Successfully imported.\n"
     ]
    }
   ],
   "source": [
    "import sys\n",
    "sys.dont_write_bytecode = True\n",
    "print(\"Set __pycache__ disabled.\")\n",
    "\n",
    "from preprocessing import *\n",
    "from time import sleep\n",
    "from os import listdir\n",
    "import numpy as np\n",
    "import matplotlib.pyplot as plt\n",
    "\n",
    "#from keras.api.models import Sequential\n",
    "#from keras.api.layers import Flatten, Dense\n",
    "#from keras.api.optimizers import Adagrad\n",
    "#from keras.api.utils import to_categorical\n",
    "\n",
    "import tensorflow as tf\n",
    "from tensorflow.keras.models import Sequential  # type: ignore\n",
    "from tensorflow.keras.layers import Flatten, Dense, LSTM, Dropout, Embedding  # type: ignore\n",
    "from tensorflow.keras.regularizers import L2  # type: ignore\n",
    "from tensorflow.keras import optimizers  # type: ignore\n",
    "from tensorflow.keras.utils import to_categorical  # type: ignore\n",
    "\n",
    "gpus = tf.config.list_physical_devices('GPU')\n",
    "print(\"GPUs detected: \",gpus)\n",
    "print(\"Successfully imported.\")"
   ]
  },
  {
   "cell_type": "code",
   "execution_count": 40,
   "metadata": {},
   "outputs": [
    {
     "name": "stdout",
     "output_type": "stream",
     "text": [
      "/home/yegekucuk/Documents/Projects/story-creator\n",
      "Set __pycache__ disabled.\n",
      "Library loaded\n",
      "Number of stories used: 10\n",
      "0.txt done.\n",
      "1.txt done.\n",
      "2.txt done.\n",
      "3.txt done.\n",
      "4.txt done.\n",
      "5.txt done.\n",
      "6.txt done.\n",
      "7.txt done.\n",
      "8.txt done.\n",
      "9.txt done.\n",
      "Successfully created the file in dictionary/dictionary.txt\n"
     ]
    },
    {
     "data": {
      "text/plain": [
       "0"
      ]
     },
     "execution_count": 40,
     "metadata": {},
     "output_type": "execute_result"
    }
   ],
   "source": [
    "import os\n",
    "os.system(\"pwd\")\n",
    "os.system(command=\"python3 preprocessing.py\")"
   ]
  },
  {
   "cell_type": "code",
   "execution_count": 41,
   "metadata": {},
   "outputs": [
    {
     "name": "stdout",
     "output_type": "stream",
     "text": [
      "Dictionary is loaded successfully.\n"
     ]
    }
   ],
   "source": [
    "# Loading the dictionary\n",
    "dictionary_list = load_dictionary()"
   ]
  },
  {
   "cell_type": "code",
   "execution_count": 42,
   "metadata": {},
   "outputs": [
    {
     "name": "stdout",
     "output_type": "stream",
     "text": [
      "[[[398], [148], [19], [409], [85], [33], [0], [209], [360], [298], [606], [38], [61], [571], [298], [394], [393], [682], [113], [262], [310], [298], [412], [270], [134], [424], [608], [262], [401], [550], [407], [674], [262], [564], [33], [593], [85], [365], [201], [526], [339], [262], [660], [486], [595], [414], [122], [262], [633], [593], [85], [258], [11], [593], [669], [37], [578], [262], [660], [0], [76], [7], [563], [285], [270], [409], [504], [33], [207], [298], [660], [230], [61], [262], [377], [593], [435], [262], [116], [368], [538], [596], [478], [593], [431], [660], [41], [61], [593], [231], [362], [383], [262], [523], [593], [85], [222], [398], [494], [612], [593], [453], [75], [56], [675], [262], [116], [44], [21], [675], [262], [660], [244]], [[359], [256], [17], [44], [196], [62], [376], [61], [528], [256], [394], [282], [592], [414], [100], [74], [593], [102], [408], [266], [337], [674], [528], [223], [19], [409], [419], [374], [33], [0], [209], [360], [528], [101], [586], [491], [461], [298], [593], [374], [660], [41], [300], [226], [103], [285], [293], [67], [408], [649], [21], [216], [61], [674], [528], [347], [292], [298], [359], [401], [550], [407], [593], [483], [660], [399], [466], [498], [298], [660], [30], [279], [593], [374], [660], [534], [266], [0], [143], [648], [408], [267], [414], [592], [528], [141], [586], [481], [593], [383], [528], [564], [593], [83], [593], [483], [42], [21], [528], [509], [592], [593], [374], [663], [586], [308], [534], [266], [19], [281], [298], [660], [534], [266], [266], [231], [33], [207], [593], [242], [671], [543], [381], [408], [577], [260], [21], [306], [61], [30], [359], [96], [612], [234], [292], [593], [374], [528], [509], [121], [381], [198], [484], [21], [378], [528], [477], [592], [593], [374], [660], [399], [308], [0], [615], [218], [519], [483], [298], [660], [0], [683], [292], [266], [197], [593], [374], [533], [266], [593], [434], [528], [100], [587], [61], [298], [13], [495], [593], [94], [408], [182], [77], [359], [42], [404], [686], [593], [374], [558], [274], [159], [122], [574], [266], [231], [61], [30], [528], [140], [528], [46], [612], [349], [616], [686], [266], [453], [337], [593], [383], [528], [485], [412], [593], [374], [593], [383], [528], [201], [30], [601], [266], [78], [671], [49], [353], [218], [266], [180], [359], [477], [592], [528], [256], [43], [621], [62], [593], [374], [505], [650], [408], [197], [528], [256], [612], [124], [676], [612], [95], [343], [285], [593], [524], [408], [266], [231], [418], [58], [227], [21], [341], [687], [317], [672], [325], [8], [285], [593], [163], [359], [79], [612], [58], [593], [374], [527], [298], [292], [0], [603], [439], [30], [593], [240], [200], [612], [593], [253], [528], [201], [0], [520], [408], [335], [317], [592], [266], [197], [660], [285], [266], [258]], [[499], [256], [17], [44], [196], [62], [236], [61], [674], [262], [148], [0], [358], [327], [612], [0], [268], [70], [270], [112], [633], [292], [405], [593], [358], [256], [44], [429], [154], [605], [237], [21], [300], [333], [561], [408], [0], [70], [203], [686], [111], [592], [100], [248], [638], [449], [499], [233], [0], [589], [408], [188], [21], [613], [598], [523], [422], [612], [206], [593], [70], [593], [304], [660], [345], [21], [625], [61], [499], [505], [138], [394], [668], [598], [109], [384], [626], [605], [132], [21], [391], [131], [307], [205], [6], [382], [408], [512], [598], [223], [593], [170], [612], [593], [70], [268], [52], [0], [667], [288], [593], [9], [660], [98], [21], [593], [655], [531], [686], [604], [408], [111], [593], [111], [460], [686], [19], [176], [338], [68], [525], [592], [117], [3], [593], [655], [499], [660], [367], [21], [30], [262], [26], [593], [322], [110], [33], [593], [71], [408], [593], [70], [262], [201], [0], [570], [165], [661], [424], [269], [593], [110], [660], [10], [300], [579], [583], [686], [90], [592], [517], [612], [91], [686], [270], [372], [499], [470], [422], [21], [617], [298], [21], [285], [19], [290], [262], [660], [211], [686], [651], [408], [593], [431], [21], [231], [593], [70], [660], [399], [308], [0], [557], [408], [449], [298], [660], [0], [343], [169], [0], [93], [592], [256], [44], [654], [218], [549], [612], [640], [300], [514], [61], [30], [499], [130], [128], [292], [300], [387], [262], [477], [592], [593], [111], [256], [0], [456], [182], [685], [249], [62], [593], [70], [63], [686], [0], [99], [0], [438], [408], [593], [555], [499], [660], [191], [686], [0], [144], [126], [587], [593], [449], [21], [501], [350], [270], [277], [418], [329], [593], [70], [21], [493], [612], [593], [337], [262], [413], [314], [285], [593], [163], [499], [79], [612], [329], [317], [592], [548], [451], [671], [614], [250], [612], [97], [30], [262], [21], [270], [589], [185], [593], [70], [593], [170], [88], [48], [595], [510], [593], [513], [36], [413], [383]], [[553], [256], [17], [44], [155], [612], [409], [23], [61], [597], [660], [414], [299], [528], [100], [394], [491], [593], [374], [285], [593], [34], [298], [660], [19], [419], [238], [226], [686], [293], [133], [592], [517], [612], [529], [674], [528], [663], [586], [348], [145], [33], [298], [414], [122], [553], [125], [612], [295], [30], [528], [235], [292], [593], [374], [528], [509], [0], [483], [408], [267], [61], [298], [663], [586], [466], [498], [266], [483], [517], [612], [385], [412], [300], [425], [30], [279], [298], [671], [0], [522], [169], [553], [470], [422], [612], [616], [593], [240], [21], [285], [19], [290], [528], [660], [458], [292], [593], [374], [412], [593], [420], [535], [528], [148], [0], [427], [689], [414], [592], [375], [266], [425], [61], [686], [575], [142], [285], [600], [689], [528], [660], [399], [679], [528], [602], [528], [660], [528], [256], [0], [143], [337], [143], [228], [21], [0], [143], [136], [553], [660], [239], [593], [73], [612], [341], [600], [395], [337], [61], [30], [528], [627], [612], [4], [528], [477], [592], [593], [374], [689], [660], [399], [30], [436], [30], [298], [517], [597], [671], [120], [514], [268], [52], [593], [579], [553], [256], [612], [206], [0], [669], [612], [493], [612], [266], [425], [689], [45], [528], [660], [621], [220], [686], [414], [204], [462], [528], [175], [593], [374], [61], [593], [186], [332], [266], [686], [0], [340], [464], [256], [528], [181], [629], [332]], [[352], [223], [19], [22], [374], [33], [0], [695], [507], [298], [141], [586], [482], [266], [281], [291], [298], [533], [266], [157], [548], [671], [41], [421], [570], [528], [559], [274], [666], [367], [414], [122], [528], [509], [0], [156], [408], [267], [151], [550], [57], [528], [116], [394], [627], [45], [289], [528], [125], [612], [356], [298], [474], [30], [528], [576], [593], [374], [533], [266], [395], [157], [203], [686], [164], [447], [352], [477], [593], [374], [141], [586], [452], [266], [231], [298], [495], [266], [448], [528], [397], [346], [393], [593], [374], [612], [51], [285], [267], [61], [528], [310], [298], [30], [0], [489], [592], [157], [64], [43], [476]], [[161], [287], [266], [247], [505], [85], [532], [6], [270], [388], [147], [593], [532], [660], [543], [21], [631], [36], [412], [0], [465], [572], [300], [684], [103], [285], [158], [528], [256], [17], [318], [592], [266], [247], [660], [383], [591], [308], [0], [537], [86], [61], [528], [394], [282], [275], [127], [270], [514], [468], [414], [178], [677], [82], [593], [37], [504], [161], [223], [19], [409], [303], [268], [48], [0], [55], [593], [303], [660], [203], [686], [570], [585], [21], [540], [408], [293], [87], [592], [517], [612], [129], [593], [324], [408], [608], [593], [323], [171], [693], [285], [278], [259], [472], [593], [85], [680], [74], [183], [161], [660], [294], [61], [13], [643], [528], [125], [612], [295], [21], [266], [511], [331], [266], [612], [19], [20], [85], [268], [285], [593], [532], [505], [34], [298], [660], [639], [24], [420], [85], [528], [256], [181], [518], [298], [256], [397], [258], [397], [403], [21], [397], [607], [291], [298], [660], [0], [536], [544], [579], [686], [0], [539], [166], [608], [296], [0], [502], [30], [161], [617], [298], [593], [85], [46], [612], [276], [21], [593], [504], [28], [266], [530], [528], [223], [267], [563], [285], [0], [143], [648], [408], [593], [85], [532], [414], [592], [347], [30], [601], [298], [256], [44], [1], [218], [696], [593], [9], [660], [599], [686], [158], [21], [593], [556], [408], [607], [160], [229], [551], [127], [288], [593], [60], [161], [477], [592], [593], [85], [660], [399], [308], [0], [610], [298], [660], [0], [445], [159], [632], [408], [593], [139], [521], [266], [612], [143], [444], [285], [608], [56], [431], [21], [231], [528], [652], [266], [247], [505], [698], [666], [269], [104], [87], [686], [19], [406], [430], [528], [509], [593], [500], [21], [193], [408], [593], [85], [532], [505], [194], [21], [528], [177], [241], [0], [231], [675], [593], [532], [660], [245], [490], [62], [0], [542], [379], [60], [61], [30], [528], [187], [161], [46], [612], [400], [570], [149], [285], [593], [609], [593], [435], [528], [368], [517], [612], [316], [266], [30], [601], [528], [256], [44], [0], [428], [408], [594], [342], [218], [386], [346], [591], [528], [256], [477], [593], [383], [528], [624], [605], [608], [593], [383], [528], [635], [2], [266], [247], [505], [513], [262], [256], [44], [688], [412], [0], [85], [592], [100], [14], [593], [102], [408], [271], [301], [593], [85], [256], [593], [449], [612], [74], [179], [173], [378], [21], [106], [395], [475], [61], [298], [13], [65], [0], [265], [99], [182], [15], [107], [0], [224], [285], [593], [190], [408], [608], [161], [660], [191], [686], [0], [144], [77], [645], [593], [85], [612], [208], [593], [378], [408], [266], [195], [505], [431], [418], [334], [608], [214], [389], [397], [361], [275], [426], [593], [94], [285], [593], [163], [528], [79], [612], [329], [593], [85], [644], [317], [592], [593], [628], [363], [408], [608], [660], [285], [343], [605], [298], [399], [630], [612], [97], [298], [30], [528], [494], [612], [593], [453], [161], [477], [592], [593], [85], [601], [567], [285], [266], [446], [660], [397], [346], [0], [615], [408], [449], [298], [660], [0], [489], [408], [593], [283], [408], [182], [380]], [[285], [593], [370], [408], [0], [219], [162], [223], [0], [152], [563], [12], [686], [397], [655], [28], [298], [298], [256], [397], [257], [397], [312], [308], [0], [152], [113], [528], [463], [61], [298], [691], [586], [59], [528], [315], [21], [612], [266], [580], [549], [315], [37], [0], [653], [678], [593], [152], [417], [686], [0], [464], [399], [0], [311], [162], [602], [261], [21], [31], [672], [336], [53], [697], [593], [152], [105], [416], [496], [0], [689], [203], [686], [210], [297], [21], [243], [503], [528], [477], [112], [660], [593], [474], [311], [162], [566], [605], [473], [218], [673], [63], [396], [548], [153], [27], [586], [364], [612], [39], [344], [308], [636]], [[30], [0], [76], [302], [256], [263], [569], [408], [0], [268], [313], [0], [440], [675], [354], [215], [605], [593], [573], [21], [593], [284], [660], [353], [474], [593], [569], [671], [429], [154], [605], [237], [61], [397], [414], [256], [181], [223], [593], [313], [302], [505], [112], [252], [30], [262], [246], [410], [21], [414], [122], [677], [189], [19], [409], [358], [262], [256], [287], [262], [148], [0], [433], [592], [331], [612], [0], [268], [440], [217], [593], [358], [302], [305], [292], [593], [384], [270], [264], [467], [686], [184], [593], [433], [660], [625], [21], [357], [611], [262], [602], [262], [371], [632], [37], [61], [270], [138], [310], [269], [244], [6], [123], [408], [623], [302], [205], [29], [33], [0], [646], [268], [229], [593], [689], [581], [62], [619], [84], [285], [593], [71], [408], [593], [646], [568], [0], [355], [69], [300], [560], [471], [618], [593], [541], [302], [168], [593], [69], [21], [288], [262], [148], [592], [593], [313], [660], [399], [308], [0], [440], [298], [660], [10], [593], [655], [517], [612], [459], [686], [165], [21], [593], [9], [660], [203], [686], [593], [276], [408], [354], [593], [286], [408], [593], [313], [671], [639], [24], [262], [256], [181], [518], [598], [671], [108], [408], [333], [50], [353], [408], [338], [21], [524], [302], [552], [328], [592], [593], [313], [660], [0], [508], [0], [440], [675], [354], [256], [44], [455], [218], [72], [61], [593], [313], [660], [285], [118], [593], [354], [592], [310], [298], [268], [660], [192], [21], [279], [298], [671], [612], [146], [593], [313], [690], [39], [351], [220], [302], [660], [191], [686], [0], [77], [645], [593], [449], [408], [593], [313], [612], [74], [593], [689], [418], [457], [298], [21], [309], [300], [513], [506], [285], [593], [163], [302], [79], [612], [329], [593], [313], [30], [298], [660], [317], [592], [300], [354], [660], [364], [612], [39], [455], [262], [494], [612], [593], [423], [689], [66], [593], [366], [408], [593], [268], [313], [285], [270], [264]], [[593], [689], [256], [255], [135], [21], [390], [256], [392], [647], [81], [660], [414], [408], [593], [323], [202], [435], [612], [341], [285], [593], [488], [408], [19], [20], [80], [593], [80], [256], [413], [44], [0], [213], [369], [61], [402], [298], [660], [0], [524], [408], [301], [81], [505], [415], [547], [660], [593], [543], [232], [528], [590], [612], [298], [660], [0], [225], [432], [408], [251], [285], [0], [321], [408], [92], [21], [565], [414], [122], [528], [148], [0], [516], [268], [18], [593], [546], [639], [25], [528], [256], [518], [45], [113], [528], [441], [298], [285], [593], [71], [408], [266], [232], [612], [266], [32], [298], [252], [469], [562], [300], [330], [21], [216], [3], [593], [319], [593], [232], [42], [0], [40], [408], [337], [35], [420], [582], [229], [150], [320], [435], [624], [612], [515], [593], [373], [273], [612], [206], [593], [311], [612], [492], [390], [61], [30], [593], [232], [212], [545], [140], [300], [570], [451], [442], [252], [634], [21], [593], [253], [46], [612], [529], [285], [641], [670], [81], [477], [593], [232], [663], [586], [308], [497], [390], [298], [660], [16], [476], [301], [528], [256], [612], [124], [676], [612], [137], [593], [232], [21], [454], [672], [660], [332], [408], [593], [689], [418], [334], [298], [254], [21], [501], [183], [528], [79], [612], [334], [298], [254], [273], [298], [690], [326], [277], [612], [0], [395], [47], [424], [608], [593], [80], [660], [479], [21], [390], [480], [300], [440], [81], [505], [232], [42], [0], [584], [408], [272], [218], [0], [689], [592], [256], [221], [275], [612], [54]], [[411], [256], [17], [5], [266], [247], [505], [89], [408], [22], [665], [61], [597], [660], [414], [592], [568], [422], [0], [41], [443], [664], [686], [293], [167], [298], [256], [44], [429], [154], [605], [237], [61], [266], [247], [256], [17], [657], [266], [394], [612], [681], [298], [674], [262], [429], [36], [411], [287], [593], [664], [21], [125], [612], [280], [270], [658], [593], [380], [528], [692], [593], [664], [0], [570], [199], [662], [424], [266], [608], [517], [612], [659], [28], [266], [21], [528], [223], [267], [620], [612], [0], [143], [172], [298], [660], [0], [608], [408], [656], [21], [642], [21], [411], [477], [592], [528], [256], [43], [428], [408], [593], [431], [593], [443], [664], [256], [115], [266], [622], [266], [285], [0], [380], [408], [271], [592], [528], [100], [399], [174], [528], [627], [183], [612], [58], [593], [114], [61], [159], [608], [528], [692], [593], [664], [528], [660], [521], [612], [0], [143], [437], [285], [271], [411], [148], [592], [593], [664], [256], [44], [115], [62], [0], [450], [554], [21], [415], [62], [637], [593], [694], [408], [593], [431], [100], [528], [58], [227], [285], [593], [163], [411], [223], [0], [669], [612], [493], [612], [266], [425], [608], [61], [593], [664], [487], [285], [266], [195], [0], [489], [408], [593], [119], [408], [588], [686], [608]]]\n"
     ]
    }
   ],
   "source": [
    "# Creating stories[][]\n",
    "scripts = []\n",
    "\n",
    "for j in range(NUM_STORIES):\n",
    "    with open(f\"./dataset-encrypted/{j}.txt\",\"r\") as file:\n",
    "        scripts.append(list(map(int,list(file.read().splitlines()))))\n",
    "        file.close()\n",
    "\n",
    "# Turning int to [int]\n",
    "def func(liste):\n",
    "    return [[x] for x in liste]\n",
    "scripts = list(map(func,scripts))\n",
    "\n",
    "print(scripts)"
   ]
  },
  {
   "cell_type": "code",
   "execution_count": 43,
   "metadata": {},
   "outputs": [
    {
     "name": "stdout",
     "output_type": "stream",
     "text": [
      "[array([[0., 0., 0., ..., 0., 0., 0.],\n",
      "       [0., 0., 0., ..., 0., 0., 0.],\n",
      "       [0., 0., 0., ..., 0., 0., 0.],\n",
      "       ...,\n",
      "       [0., 0., 0., ..., 0., 0., 0.],\n",
      "       [0., 0., 0., ..., 0., 0., 0.],\n",
      "       [0., 0., 0., ..., 0., 0., 0.]]), array([[0., 0., 0., ..., 0., 0., 0.],\n",
      "       [0., 0., 0., ..., 0., 0., 0.],\n",
      "       [0., 0., 0., ..., 0., 0., 0.],\n",
      "       ...,\n",
      "       [0., 0., 0., ..., 0., 0., 0.],\n",
      "       [0., 0., 0., ..., 0., 0., 0.],\n",
      "       [0., 0., 0., ..., 0., 0., 0.]]), array([[0., 0., 0., ..., 0., 0., 0.],\n",
      "       [0., 0., 0., ..., 0., 0., 0.],\n",
      "       [0., 0., 0., ..., 0., 0., 0.],\n",
      "       ...,\n",
      "       [0., 0., 0., ..., 0., 0., 0.],\n",
      "       [0., 0., 0., ..., 0., 0., 0.],\n",
      "       [0., 0., 0., ..., 0., 0., 0.]]), array([[0., 0., 0., ..., 0., 0., 0.],\n",
      "       [0., 0., 0., ..., 0., 0., 0.],\n",
      "       [0., 0., 0., ..., 0., 0., 0.],\n",
      "       ...,\n",
      "       [0., 0., 0., ..., 0., 0., 0.],\n",
      "       [0., 0., 0., ..., 0., 0., 0.],\n",
      "       [0., 0., 0., ..., 0., 0., 0.]]), array([[0., 0., 0., ..., 0., 0., 0.],\n",
      "       [0., 0., 0., ..., 0., 0., 0.],\n",
      "       [0., 0., 0., ..., 0., 0., 0.],\n",
      "       ...,\n",
      "       [0., 0., 0., ..., 0., 0., 0.],\n",
      "       [0., 0., 0., ..., 0., 0., 0.],\n",
      "       [0., 0., 0., ..., 0., 0., 0.]]), array([[0., 0., 0., ..., 0., 0., 0.],\n",
      "       [0., 0., 0., ..., 0., 0., 0.],\n",
      "       [0., 0., 0., ..., 0., 0., 0.],\n",
      "       ...,\n",
      "       [0., 0., 0., ..., 0., 0., 0.],\n",
      "       [0., 0., 0., ..., 0., 0., 0.],\n",
      "       [0., 0., 0., ..., 0., 0., 0.]]), array([[0., 0., 0., ..., 0., 0., 0.],\n",
      "       [0., 0., 0., ..., 0., 0., 0.],\n",
      "       [0., 0., 0., ..., 0., 0., 0.],\n",
      "       ...,\n",
      "       [0., 0., 0., ..., 0., 0., 0.],\n",
      "       [0., 0., 0., ..., 0., 0., 0.],\n",
      "       [0., 0., 0., ..., 0., 0., 0.]]), array([[0., 0., 0., ..., 0., 0., 0.],\n",
      "       [1., 0., 0., ..., 0., 0., 0.],\n",
      "       [0., 0., 0., ..., 0., 0., 0.],\n",
      "       ...,\n",
      "       [0., 0., 0., ..., 0., 0., 0.],\n",
      "       [0., 0., 0., ..., 0., 0., 0.],\n",
      "       [0., 0., 0., ..., 0., 0., 0.]]), array([[0., 0., 0., ..., 0., 0., 0.],\n",
      "       [0., 0., 0., ..., 0., 0., 0.],\n",
      "       [0., 0., 0., ..., 0., 0., 0.],\n",
      "       ...,\n",
      "       [0., 0., 0., ..., 0., 0., 0.],\n",
      "       [0., 0., 0., ..., 0., 0., 0.],\n",
      "       [0., 0., 0., ..., 0., 0., 0.]]), array([[0., 0., 0., ..., 0., 0., 0.],\n",
      "       [0., 0., 0., ..., 0., 0., 0.],\n",
      "       [0., 0., 0., ..., 0., 0., 0.],\n",
      "       ...,\n",
      "       [0., 0., 0., ..., 0., 0., 0.],\n",
      "       [0., 0., 0., ..., 0., 0., 0.],\n",
      "       [0., 0., 0., ..., 0., 0., 0.]])]\n"
     ]
    }
   ],
   "source": [
    "# To categorical -> [0,0,0,...,1,...0,0,0]\n",
    "for j in range(NUM_STORIES):\n",
    "    scripts[j] = to_categorical(scripts[j],num_classes=len(dictionary_list))\n",
    "\n",
    "print(scripts)"
   ]
  },
  {
   "cell_type": "code",
   "execution_count": 44,
   "metadata": {},
   "outputs": [],
   "source": [
    "# Creating inputs and outputs lists\n",
    "inputs = []\n",
    "outputs = []\n",
    "for j in range(NUM_STORIES):\n",
    "    inputs.append(None)\n",
    "    outputs.append(None)\n",
    "\n",
    "# Creating sublists\n",
    "for j in range(NUM_STORIES):\n",
    "    inputs[j],outputs[j] = create_sublists(scripts[j], WINDOW_SIZE)\n",
    "\n",
    "# Removing [stories] layer in lists aka. flattening\n",
    "# [[1],[2],[3]] -> [1,2,3]\n",
    "inputs_temp = []\n",
    "for j in range(NUM_STORIES):\n",
    "    for k in range(len(inputs[j])):\n",
    "        inputs_temp.append(inputs[j][k])\n",
    "inputs = inputs_temp\n",
    "del inputs_temp\n",
    "\n",
    "outputs_temp = []\n",
    "for j in range(NUM_STORIES):\n",
    "    for k in range(len(outputs[j])):\n",
    "        outputs_temp.append(outputs[j][k])\n",
    "outputs = outputs_temp\n",
    "del outputs_temp\n",
    "\n",
    "x_train = np.asarray(inputs)\n",
    "y_train = np.asarray(outputs)"
   ]
  },
  {
   "cell_type": "code",
   "execution_count": 45,
   "metadata": {},
   "outputs": [],
   "source": [
    "# # Creating train data and test data, x is for input and y is for output\n",
    "# from sklearn.model_selection import train_test_split\n",
    "# x_train, x_test, y_train, y_test = train_test_split(inputs, outputs, test_size=0.3, random_state=42)\n",
    "# \n",
    "# x_train = np.asarray(x_train)\n",
    "# y_train = np.asarray(y_train)\n",
    "# x_test = np.asarray(x_test)\n",
    "# y_test = np.asarray(y_test)"
   ]
  },
  {
   "cell_type": "code",
   "execution_count": 46,
   "metadata": {},
   "outputs": [
    {
     "name": "stdout",
     "output_type": "stream",
     "text": [
      "Training data shape: (2302, 5, 699), (2302, 699)\n",
      "Unique samples ratio: 0.99\n"
     ]
    }
   ],
   "source": [
    "print(f\"Training data shape: {x_train.shape}, {y_train.shape}\")\n",
    "print(f\"Unique samples ratio: {len(np.unique(x_train, axis=0))/len(x_train):.2f}\")"
   ]
  },
  {
   "cell_type": "code",
   "execution_count": 47,
   "metadata": {},
   "outputs": [
    {
     "data": {
      "text/html": [
       "<pre style=\"white-space:pre;overflow-x:auto;line-height:normal;font-family:Menlo,'DejaVu Sans Mono',consolas,'Courier New',monospace\"><span style=\"font-weight: bold\">Model: \"sequential_3\"</span>\n",
       "</pre>\n"
      ],
      "text/plain": [
       "\u001b[1mModel: \"sequential_3\"\u001b[0m\n"
      ]
     },
     "metadata": {},
     "output_type": "display_data"
    },
    {
     "data": {
      "text/html": [
       "<pre style=\"white-space:pre;overflow-x:auto;line-height:normal;font-family:Menlo,'DejaVu Sans Mono',consolas,'Courier New',monospace\">┏━━━━━━━━━━━━━━━━━━━━━━━━━━━━━━━━━┳━━━━━━━━━━━━━━━━━━━━━━━━┳━━━━━━━━━━━━━━━┓\n",
       "┃<span style=\"font-weight: bold\"> Layer (type)                    </span>┃<span style=\"font-weight: bold\"> Output Shape           </span>┃<span style=\"font-weight: bold\">       Param # </span>┃\n",
       "┡━━━━━━━━━━━━━━━━━━━━━━━━━━━━━━━━━╇━━━━━━━━━━━━━━━━━━━━━━━━╇━━━━━━━━━━━━━━━┩\n",
       "│ lstm_3 (<span style=\"color: #0087ff; text-decoration-color: #0087ff\">LSTM</span>)                   │ (<span style=\"color: #00d7ff; text-decoration-color: #00d7ff\">None</span>, <span style=\"color: #00af00; text-decoration-color: #00af00\">64</span>)             │       <span style=\"color: #00af00; text-decoration-color: #00af00\">195,584</span> │\n",
       "├─────────────────────────────────┼────────────────────────┼───────────────┤\n",
       "│ dense_3 (<span style=\"color: #0087ff; text-decoration-color: #0087ff\">Dense</span>)                 │ (<span style=\"color: #00d7ff; text-decoration-color: #00d7ff\">None</span>, <span style=\"color: #00af00; text-decoration-color: #00af00\">699</span>)            │        <span style=\"color: #00af00; text-decoration-color: #00af00\">45,435</span> │\n",
       "└─────────────────────────────────┴────────────────────────┴───────────────┘\n",
       "</pre>\n"
      ],
      "text/plain": [
       "┏━━━━━━━━━━━━━━━━━━━━━━━━━━━━━━━━━┳━━━━━━━━━━━━━━━━━━━━━━━━┳━━━━━━━━━━━━━━━┓\n",
       "┃\u001b[1m \u001b[0m\u001b[1mLayer (type)                   \u001b[0m\u001b[1m \u001b[0m┃\u001b[1m \u001b[0m\u001b[1mOutput Shape          \u001b[0m\u001b[1m \u001b[0m┃\u001b[1m \u001b[0m\u001b[1m      Param #\u001b[0m\u001b[1m \u001b[0m┃\n",
       "┡━━━━━━━━━━━━━━━━━━━━━━━━━━━━━━━━━╇━━━━━━━━━━━━━━━━━━━━━━━━╇━━━━━━━━━━━━━━━┩\n",
       "│ lstm_3 (\u001b[38;5;33mLSTM\u001b[0m)                   │ (\u001b[38;5;45mNone\u001b[0m, \u001b[38;5;34m64\u001b[0m)             │       \u001b[38;5;34m195,584\u001b[0m │\n",
       "├─────────────────────────────────┼────────────────────────┼───────────────┤\n",
       "│ dense_3 (\u001b[38;5;33mDense\u001b[0m)                 │ (\u001b[38;5;45mNone\u001b[0m, \u001b[38;5;34m699\u001b[0m)            │        \u001b[38;5;34m45,435\u001b[0m │\n",
       "└─────────────────────────────────┴────────────────────────┴───────────────┘\n"
      ]
     },
     "metadata": {},
     "output_type": "display_data"
    },
    {
     "data": {
      "text/html": [
       "<pre style=\"white-space:pre;overflow-x:auto;line-height:normal;font-family:Menlo,'DejaVu Sans Mono',consolas,'Courier New',monospace\"><span style=\"font-weight: bold\"> Total params: </span><span style=\"color: #00af00; text-decoration-color: #00af00\">241,019</span> (941.48 KB)\n",
       "</pre>\n"
      ],
      "text/plain": [
       "\u001b[1m Total params: \u001b[0m\u001b[38;5;34m241,019\u001b[0m (941.48 KB)\n"
      ]
     },
     "metadata": {},
     "output_type": "display_data"
    },
    {
     "data": {
      "text/html": [
       "<pre style=\"white-space:pre;overflow-x:auto;line-height:normal;font-family:Menlo,'DejaVu Sans Mono',consolas,'Courier New',monospace\"><span style=\"font-weight: bold\"> Trainable params: </span><span style=\"color: #00af00; text-decoration-color: #00af00\">241,019</span> (941.48 KB)\n",
       "</pre>\n"
      ],
      "text/plain": [
       "\u001b[1m Trainable params: \u001b[0m\u001b[38;5;34m241,019\u001b[0m (941.48 KB)\n"
      ]
     },
     "metadata": {},
     "output_type": "display_data"
    },
    {
     "data": {
      "text/html": [
       "<pre style=\"white-space:pre;overflow-x:auto;line-height:normal;font-family:Menlo,'DejaVu Sans Mono',consolas,'Courier New',monospace\"><span style=\"font-weight: bold\"> Non-trainable params: </span><span style=\"color: #00af00; text-decoration-color: #00af00\">0</span> (0.00 B)\n",
       "</pre>\n"
      ],
      "text/plain": [
       "\u001b[1m Non-trainable params: \u001b[0m\u001b[38;5;34m0\u001b[0m (0.00 B)\n"
      ]
     },
     "metadata": {},
     "output_type": "display_data"
    },
    {
     "name": "stdout",
     "output_type": "stream",
     "text": [
      "Model is optimized\n"
     ]
    }
   ],
   "source": [
    "# Creating model (ANN)\n",
    "model=Sequential([\n",
    "    #Flatten(input_shape=(WINDOW_SIZE, len(dictionary_list))),\n",
    "    LSTM(64, input_shape=(WINDOW_SIZE, len(dictionary_list))),\n",
    "    Dense(len(dictionary_list), activation=\"softmax\")\n",
    "])\n",
    "\n",
    "# Showing properties\n",
    "model.summary()\n",
    "\n",
    "# Setting the optimizer algorithm and compiling the model\n",
    "opt = optimizers.Adam(learning_rate = 0.01)\n",
    "model.compile(loss=\"categorical_crossentropy\", optimizer=opt, metrics=[\"accuracy\"])\n",
    "print(\"Model is optimized\")"
   ]
  },
  {
   "cell_type": "code",
   "execution_count": 48,
   "metadata": {},
   "outputs": [
    {
     "name": "stdout",
     "output_type": "stream",
     "text": [
      "Epoch 1/10\n",
      "\u001b[1m116/116\u001b[0m \u001b[32m━━━━━━━━━━━━━━━━━━━━\u001b[0m\u001b[37m\u001b[0m \u001b[1m1s\u001b[0m 4ms/step - accuracy: 0.0554 - loss: 6.1434 - val_accuracy: 0.0716 - val_loss: 5.8639\n",
      "Epoch 2/10\n",
      "\u001b[1m116/116\u001b[0m \u001b[32m━━━━━━━━━━━━━━━━━━━━\u001b[0m\u001b[37m\u001b[0m \u001b[1m0s\u001b[0m 2ms/step - accuracy: 0.0749 - loss: 5.3447 - val_accuracy: 0.0738 - val_loss: 5.9071\n",
      "Epoch 3/10\n",
      "\u001b[1m116/116\u001b[0m \u001b[32m━━━━━━━━━━━━━━━━━━━━\u001b[0m\u001b[37m\u001b[0m \u001b[1m0s\u001b[0m 2ms/step - accuracy: 0.1271 - loss: 4.6572 - val_accuracy: 0.1193 - val_loss: 5.8916\n",
      "Epoch 4/10\n",
      "\u001b[1m116/116\u001b[0m \u001b[32m━━━━━━━━━━━━━━━━━━━━\u001b[0m\u001b[37m\u001b[0m \u001b[1m0s\u001b[0m 2ms/step - accuracy: 0.2589 - loss: 3.6451 - val_accuracy: 0.1258 - val_loss: 6.2578\n",
      "Epoch 5/10\n",
      "\u001b[1m116/116\u001b[0m \u001b[32m━━━━━━━━━━━━━━━━━━━━\u001b[0m\u001b[37m\u001b[0m \u001b[1m0s\u001b[0m 2ms/step - accuracy: 0.4248 - loss: 2.5440 - val_accuracy: 0.1280 - val_loss: 6.7045\n",
      "Epoch 6/10\n",
      "\u001b[1m116/116\u001b[0m \u001b[32m━━━━━━━━━━━━━━━━━━━━\u001b[0m\u001b[37m\u001b[0m \u001b[1m0s\u001b[0m 2ms/step - accuracy: 0.6801 - loss: 1.4929 - val_accuracy: 0.1041 - val_loss: 7.3485\n",
      "Epoch 7/10\n",
      "\u001b[1m116/116\u001b[0m \u001b[32m━━━━━━━━━━━━━━━━━━━━\u001b[0m\u001b[37m\u001b[0m \u001b[1m0s\u001b[0m 2ms/step - accuracy: 0.8654 - loss: 0.7601 - val_accuracy: 0.1020 - val_loss: 8.1691\n",
      "Epoch 8/10\n",
      "\u001b[1m116/116\u001b[0m \u001b[32m━━━━━━━━━━━━━━━━━━━━\u001b[0m\u001b[37m\u001b[0m \u001b[1m0s\u001b[0m 2ms/step - accuracy: 0.9617 - loss: 0.3177 - val_accuracy: 0.0868 - val_loss: 8.4799\n",
      "Epoch 9/10\n",
      "\u001b[1m116/116\u001b[0m \u001b[32m━━━━━━━━━━━━━━━━━━━━\u001b[0m\u001b[37m\u001b[0m \u001b[1m0s\u001b[0m 2ms/step - accuracy: 0.9890 - loss: 0.1323 - val_accuracy: 0.0976 - val_loss: 8.8305\n",
      "Epoch 10/10\n",
      "\u001b[1m116/116\u001b[0m \u001b[32m━━━━━━━━━━━━━━━━━━━━\u001b[0m\u001b[37m\u001b[0m \u001b[1m0s\u001b[0m 2ms/step - accuracy: 0.9935 - loss: 0.0776 - val_accuracy: 0.1106 - val_loss: 9.0831\n"
     ]
    }
   ],
   "source": [
    "# Training the model\n",
    "history = model.fit(x_train, y_train, epochs=10, batch_size=16, validation_split=0.2)"
   ]
  },
  {
   "cell_type": "code",
   "execution_count": 49,
   "metadata": {},
   "outputs": [
    {
     "data": {
      "image/png": "[encoded data removed]",
      "text/plain": [
       "<Figure size 640x480 with 1 Axes>"
      ]
     },
     "metadata": {},
     "output_type": "display_data"
    },
    {
     "name": "stdout",
     "output_type": "stream",
     "text": [
      "The train accuracy: 0.992395\n"
     ]
    }
   ],
   "source": [
    "import plotter\n",
    "plotter.create_plot_keras(history, metric=\"accuracy\" , validation=True)\n",
    "#plotter.create_plot_keras(history, metric=\"loss\" , validation=True)\n",
    "print(\"The train accuracy: %f\" %(history.history[\"accuracy\"][-1]))"
   ]
  },
  {
   "cell_type": "code",
   "execution_count": 50,
   "metadata": {},
   "outputs": [],
   "source": [
    "model.save(\"model.keras\")"
   ]
  },
  {
   "cell_type": "code",
   "execution_count": 51,
   "metadata": {},
   "outputs": [
    {
     "data": {
      "text/plain": [
       "0"
      ]
     },
     "execution_count": 51,
     "metadata": {},
     "output_type": "execute_result"
    }
   ],
   "source": [
    "# Garbage collector\n",
    "os.system(\"rm -rf dataset-encrypted\")"
   ]
  }
 ],
 "metadata": {
  "kernelspec": {
   "display_name": "tf",
   "language": "python",
   "name": "python3"
  },
  "language_info": {
   "codemirror_mode": {
    "name": "ipython",
    "version": 3
   },
   "file_extension": ".py",
   "mimetype": "text/x-python",
   "name": "python",
   "nbconvert_exporter": "python",
   "pygments_lexer": "ipython3",
   "version": "3.12.3"
  }
 },
 "nbformat": 4,
 "nbformat_minor": 2
}
